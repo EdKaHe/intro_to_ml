{
 "cells": [
  {
   "cell_type": "code",
   "execution_count": 1,
   "metadata": {},
   "outputs": [],
   "source": [
    "from os.path import join\n",
    "import numpy as np\n",
    "import pandas as pd\n",
    "import matplotlib.pyplot as plt\n",
    "import matplotlib\n",
    "from mpl_toolkits.mplot3d import Axes3D\n",
    "from sklearn.preprocessing import StandardScaler, LabelEncoder\n",
    "from sklearn.model_selection import train_test_split\n",
    "from sklearn.decomposition import PCA\n",
    "from sklearn.cluster import KMeans\n",
    "\n",
    "%matplotlib widget\n",
    "\n",
    "matplotlib.rc('font', size=16) \n",
    "matplotlib.rc('xtick', labelsize=14) \n",
    "matplotlib.rc('ytick', labelsize=14)"
   ]
  },
  {
   "cell_type": "markdown",
   "metadata": {},
   "source": [
    "# 1) Data exploration"
   ]
  },
  {
   "cell_type": "code",
   "execution_count": 2,
   "metadata": {},
   "outputs": [
    {
     "data": {
      "text/html": [
       "<div>\n",
       "<style scoped>\n",
       "    .dataframe tbody tr th:only-of-type {\n",
       "        vertical-align: middle;\n",
       "    }\n",
       "\n",
       "    .dataframe tbody tr th {\n",
       "        vertical-align: top;\n",
       "    }\n",
       "\n",
       "    .dataframe thead th {\n",
       "        text-align: right;\n",
       "    }\n",
       "</style>\n",
       "<table border=\"1\" class=\"dataframe\">\n",
       "  <thead>\n",
       "    <tr style=\"text-align: right;\">\n",
       "      <th></th>\n",
       "      <th>size</th>\n",
       "      <th>weight</th>\n",
       "      <th>smoothness</th>\n",
       "      <th>red</th>\n",
       "      <th>green</th>\n",
       "      <th>blue</th>\n",
       "      <th>label</th>\n",
       "    </tr>\n",
       "  </thead>\n",
       "  <tbody>\n",
       "    <tr>\n",
       "      <th>1019</th>\n",
       "      <td>5.7</td>\n",
       "      <td>94.3</td>\n",
       "      <td>9.5</td>\n",
       "      <td>180</td>\n",
       "      <td>37</td>\n",
       "      <td>1</td>\n",
       "      <td>apple</td>\n",
       "    </tr>\n",
       "    <tr>\n",
       "      <th>1020</th>\n",
       "      <td>7.1</td>\n",
       "      <td>92.9</td>\n",
       "      <td>9.4</td>\n",
       "      <td>223</td>\n",
       "      <td>32</td>\n",
       "      <td>3</td>\n",
       "      <td>apple</td>\n",
       "    </tr>\n",
       "    <tr>\n",
       "      <th>1021</th>\n",
       "      <td>7.1</td>\n",
       "      <td>81.8</td>\n",
       "      <td>9.6</td>\n",
       "      <td>223</td>\n",
       "      <td>13</td>\n",
       "      <td>2</td>\n",
       "      <td>apple</td>\n",
       "    </tr>\n",
       "    <tr>\n",
       "      <th>1022</th>\n",
       "      <td>3.3</td>\n",
       "      <td>154.5</td>\n",
       "      <td>7.2</td>\n",
       "      <td>224</td>\n",
       "      <td>102</td>\n",
       "      <td>7</td>\n",
       "      <td>orange</td>\n",
       "    </tr>\n",
       "    <tr>\n",
       "      <th>1023</th>\n",
       "      <td>7.0</td>\n",
       "      <td>97.8</td>\n",
       "      <td>9.6</td>\n",
       "      <td>235</td>\n",
       "      <td>36</td>\n",
       "      <td>10</td>\n",
       "      <td>apple</td>\n",
       "    </tr>\n",
       "  </tbody>\n",
       "</table>\n",
       "</div>"
      ],
      "text/plain": [
       "      size  weight  smoothness  red  green  blue   label\n",
       "1019   5.7    94.3         9.5  180     37     1   apple\n",
       "1020   7.1    92.9         9.4  223     32     3   apple\n",
       "1021   7.1    81.8         9.6  223     13     2   apple\n",
       "1022   3.3   154.5         7.2  224    102     7  orange\n",
       "1023   7.0    97.8         9.6  235     36    10   apple"
      ]
     },
     "execution_count": 2,
     "metadata": {},
     "output_type": "execute_result"
    }
   ],
   "source": [
    "filepath = join(\"data\", \"fruits.csv\")\n",
    "\n",
    "# load the dataframe\n",
    "fruits = pd.read_csv(filepath)\n",
    "\n",
    "# show the dataframe\n",
    "fruits.tail()"
   ]
  },
  {
   "cell_type": "code",
   "execution_count": 3,
   "metadata": {},
   "outputs": [
    {
     "data": {
      "text/html": [
       "<div>\n",
       "<style scoped>\n",
       "    .dataframe tbody tr th:only-of-type {\n",
       "        vertical-align: middle;\n",
       "    }\n",
       "\n",
       "    .dataframe tbody tr th {\n",
       "        vertical-align: top;\n",
       "    }\n",
       "\n",
       "    .dataframe thead th {\n",
       "        text-align: right;\n",
       "    }\n",
       "</style>\n",
       "<table border=\"1\" class=\"dataframe\">\n",
       "  <thead>\n",
       "    <tr style=\"text-align: right;\">\n",
       "      <th></th>\n",
       "      <th>size</th>\n",
       "      <th>weight</th>\n",
       "      <th>smoothness</th>\n",
       "      <th>red</th>\n",
       "      <th>green</th>\n",
       "      <th>blue</th>\n",
       "    </tr>\n",
       "  </thead>\n",
       "  <tbody>\n",
       "    <tr>\n",
       "      <th>count</th>\n",
       "      <td>1024.000000</td>\n",
       "      <td>1024.000000</td>\n",
       "      <td>1024.000000</td>\n",
       "      <td>1024.000000</td>\n",
       "      <td>1024.000000</td>\n",
       "      <td>1024.000000</td>\n",
       "    </tr>\n",
       "    <tr>\n",
       "      <th>mean</th>\n",
       "      <td>6.940527</td>\n",
       "      <td>112.492090</td>\n",
       "      <td>8.488965</td>\n",
       "      <td>220.481445</td>\n",
       "      <td>69.402344</td>\n",
       "      <td>4.073242</td>\n",
       "    </tr>\n",
       "    <tr>\n",
       "      <th>std</th>\n",
       "      <td>1.818824</td>\n",
       "      <td>31.632433</td>\n",
       "      <td>1.112475</td>\n",
       "      <td>24.809334</td>\n",
       "      <td>48.036625</td>\n",
       "      <td>3.207321</td>\n",
       "    </tr>\n",
       "    <tr>\n",
       "      <th>min</th>\n",
       "      <td>1.800000</td>\n",
       "      <td>50.400000</td>\n",
       "      <td>5.300000</td>\n",
       "      <td>110.000000</td>\n",
       "      <td>1.000000</td>\n",
       "      <td>0.000000</td>\n",
       "    </tr>\n",
       "    <tr>\n",
       "      <th>25%</th>\n",
       "      <td>5.700000</td>\n",
       "      <td>84.775000</td>\n",
       "      <td>7.500000</td>\n",
       "      <td>209.000000</td>\n",
       "      <td>30.000000</td>\n",
       "      <td>2.000000</td>\n",
       "    </tr>\n",
       "    <tr>\n",
       "      <th>50%</th>\n",
       "      <td>6.900000</td>\n",
       "      <td>102.450000</td>\n",
       "      <td>9.100000</td>\n",
       "      <td>228.000000</td>\n",
       "      <td>46.000000</td>\n",
       "      <td>3.000000</td>\n",
       "    </tr>\n",
       "    <tr>\n",
       "      <th>75%</th>\n",
       "      <td>8.200000</td>\n",
       "      <td>140.625000</td>\n",
       "      <td>9.500000</td>\n",
       "      <td>238.000000</td>\n",
       "      <td>107.000000</td>\n",
       "      <td>6.000000</td>\n",
       "    </tr>\n",
       "    <tr>\n",
       "      <th>max</th>\n",
       "      <td>13.300000</td>\n",
       "      <td>186.700000</td>\n",
       "      <td>10.000000</td>\n",
       "      <td>255.000000</td>\n",
       "      <td>213.000000</td>\n",
       "      <td>18.000000</td>\n",
       "    </tr>\n",
       "  </tbody>\n",
       "</table>\n",
       "</div>"
      ],
      "text/plain": [
       "              size       weight   smoothness          red        green  \\\n",
       "count  1024.000000  1024.000000  1024.000000  1024.000000  1024.000000   \n",
       "mean      6.940527   112.492090     8.488965   220.481445    69.402344   \n",
       "std       1.818824    31.632433     1.112475    24.809334    48.036625   \n",
       "min       1.800000    50.400000     5.300000   110.000000     1.000000   \n",
       "25%       5.700000    84.775000     7.500000   209.000000    30.000000   \n",
       "50%       6.900000   102.450000     9.100000   228.000000    46.000000   \n",
       "75%       8.200000   140.625000     9.500000   238.000000   107.000000   \n",
       "max      13.300000   186.700000    10.000000   255.000000   213.000000   \n",
       "\n",
       "              blue  \n",
       "count  1024.000000  \n",
       "mean      4.073242  \n",
       "std       3.207321  \n",
       "min       0.000000  \n",
       "25%       2.000000  \n",
       "50%       3.000000  \n",
       "75%       6.000000  \n",
       "max      18.000000  "
      ]
     },
     "execution_count": 3,
     "metadata": {},
     "output_type": "execute_result"
    }
   ],
   "source": [
    "# summarize some statistical quantities\n",
    "fruits.describe()"
   ]
  },
  {
   "cell_type": "code",
   "execution_count": 4,
   "metadata": {},
   "outputs": [
    {
     "data": {
      "application/vnd.jupyter.widget-view+json": {
       "model_id": "7d6f6e794a3f4c4897ea6218050520c8",
       "version_major": 2,
       "version_minor": 0
      },
      "text/plain": [
       "Canvas(toolbar=Toolbar(toolitems=[('Home', 'Reset original view', 'home', 'home'), ('Back', 'Back to previous …"
      ]
     },
     "metadata": {},
     "output_type": "display_data"
    }
   ],
   "source": [
    "# size histogram\n",
    "plt.figure()\n",
    "plt.hist(fruits[\"size\"], density=True, bins=32, color=(0.3, 0.7, 0.9))\n",
    "plt.xlabel(\"Size (cm)\")\n",
    "plt.ylabel(\"Frequency\")\n",
    "plt.tight_layout()"
   ]
  },
  {
   "cell_type": "code",
   "execution_count": 5,
   "metadata": {},
   "outputs": [
    {
     "data": {
      "application/vnd.jupyter.widget-view+json": {
       "model_id": "45170cdedf0d4d1b96eccf94a958ccbe",
       "version_major": 2,
       "version_minor": 0
      },
      "text/plain": [
       "Canvas(toolbar=Toolbar(toolitems=[('Home', 'Reset original view', 'home', 'home'), ('Back', 'Back to previous …"
      ]
     },
     "metadata": {},
     "output_type": "display_data"
    }
   ],
   "source": [
    "# weight histogram\n",
    "plt.figure()\n",
    "plt.hist(fruits[\"weight\"], density=True, bins=32, color=(0.3, 0.7, 0.9))\n",
    "plt.xlabel(\"Weight (g)\")\n",
    "plt.ylabel(\"Frequency\")\n",
    "plt.tight_layout()"
   ]
  },
  {
   "cell_type": "code",
   "execution_count": 6,
   "metadata": {},
   "outputs": [
    {
     "data": {
      "application/vnd.jupyter.widget-view+json": {
       "model_id": "1d2a5c7c75b44216a98dccb5495d9bd8",
       "version_major": 2,
       "version_minor": 0
      },
      "text/plain": [
       "Canvas(toolbar=Toolbar(toolitems=[('Home', 'Reset original view', 'home', 'home'), ('Back', 'Back to previous …"
      ]
     },
     "metadata": {},
     "output_type": "display_data"
    }
   ],
   "source": [
    "# smoothness histogram\n",
    "plt.figure()\n",
    "plt.hist(fruits[\"smoothness\"], density=True, bins=32, color=(0.3, 0.7, 0.9))\n",
    "plt.xlabel(\"Smoothness (a.u.)\")\n",
    "plt.ylabel(\"Frequency\")\n",
    "plt.tight_layout()"
   ]
  },
  {
   "cell_type": "code",
   "execution_count": 7,
   "metadata": {},
   "outputs": [
    {
     "data": {
      "application/vnd.jupyter.widget-view+json": {
       "model_id": "94a3e9d22db44e15b2380a14c2eda343",
       "version_major": 2,
       "version_minor": 0
      },
      "text/plain": [
       "Canvas(toolbar=Toolbar(toolitems=[('Home', 'Reset original view', 'home', 'home'), ('Back', 'Back to previous …"
      ]
     },
     "metadata": {},
     "output_type": "display_data"
    }
   ],
   "source": [
    "# redness histogram\n",
    "plt.figure()\n",
    "plt.hist(fruits[\"red\"], density=True, bins=32, color=(0.3, 0.7, 0.9))\n",
    "plt.xlabel(\"Red Channel\")\n",
    "plt.ylabel(\"Frequency\")\n",
    "plt.tight_layout()"
   ]
  },
  {
   "cell_type": "code",
   "execution_count": 8,
   "metadata": {},
   "outputs": [
    {
     "data": {
      "application/vnd.jupyter.widget-view+json": {
       "model_id": "425b41c46c294cee86abf877ff9eecf3",
       "version_major": 2,
       "version_minor": 0
      },
      "text/plain": [
       "Canvas(toolbar=Toolbar(toolitems=[('Home', 'Reset original view', 'home', 'home'), ('Back', 'Back to previous …"
      ]
     },
     "metadata": {},
     "output_type": "display_data"
    }
   ],
   "source": [
    "# greenness histogram\n",
    "plt.figure()\n",
    "plt.hist(fruits[\"green\"], density=True, bins=32, color=(0.3, 0.7, 0.9))\n",
    "plt.xlabel(\"Green Channel\")\n",
    "plt.ylabel(\"Frequency\")\n",
    "plt.tight_layout()"
   ]
  },
  {
   "cell_type": "code",
   "execution_count": 9,
   "metadata": {},
   "outputs": [
    {
     "data": {
      "application/vnd.jupyter.widget-view+json": {
       "model_id": "c30b5f8903a0442badcb3581cbdfeac3",
       "version_major": 2,
       "version_minor": 0
      },
      "text/plain": [
       "Canvas(toolbar=Toolbar(toolitems=[('Home', 'Reset original view', 'home', 'home'), ('Back', 'Back to previous …"
      ]
     },
     "metadata": {},
     "output_type": "display_data"
    }
   ],
   "source": [
    "# blueness histogram\n",
    "plt.figure()\n",
    "plt.hist(fruits[\"blue\"], density=True, bins=16, color=(0.3, 0.7, 0.9))\n",
    "plt.xlabel(\"Blue Channel\")\n",
    "plt.ylabel(\"Frequency\")\n",
    "plt.tight_layout()"
   ]
  },
  {
   "cell_type": "markdown",
   "metadata": {},
   "source": [
    "# 2) Preprocessing"
   ]
  },
  {
   "cell_type": "code",
   "execution_count": 10,
   "metadata": {},
   "outputs": [],
   "source": [
    "# split the data in training and testing\n",
    "train, test = train_test_split(fruits, test_size=0.2, random_state=1)\n",
    "\n",
    "# separate labels and features\n",
    "train_label = train.pop(\"label\")\n",
    "test_label = test.pop(\"label\")\n",
    "# convert the labels to 0s and 1s\n",
    "label_encoder = LabelEncoder()\n",
    "label_encoder.fit([\"orange\", \"apple\"])\n",
    "train_label = label_encoder.transform(train_label)\n",
    "test_label = label_encoder.transform(test_label)"
   ]
  },
  {
   "cell_type": "code",
   "execution_count": 11,
   "metadata": {},
   "outputs": [
    {
     "name": "stderr",
     "output_type": "stream",
     "text": [
      "C:\\Users\\edizh\\Anaconda3\\lib\\site-packages\\sklearn\\preprocessing\\data.py:617: DataConversionWarning: Data with input dtype int64, float64 were all converted to float64 by StandardScaler.\n",
      "  return self.partial_fit(X, y)\n",
      "C:\\Users\\edizh\\Anaconda3\\lib\\site-packages\\sklearn\\base.py:462: DataConversionWarning: Data with input dtype int64, float64 were all converted to float64 by StandardScaler.\n",
      "  return self.fit(X, **fit_params).transform(X)\n",
      "C:\\Users\\edizh\\Anaconda3\\lib\\site-packages\\ipykernel_launcher.py:4: DataConversionWarning: Data with input dtype int64, float64 were all converted to float64 by StandardScaler.\n",
      "  after removing the cwd from sys.path.\n"
     ]
    }
   ],
   "source": [
    "# scale the training and test data\n",
    "standard_scaler = StandardScaler()\n",
    "train_scaled = standard_scaler.fit_transform(train) \n",
    "test_scaled = standard_scaler.transform(test)\n",
    "\n",
    "# append the train and test data for plotting\n",
    "full_scaled = np.concatenate((train_scaled, test_scaled), axis=0)\n",
    "\n",
    "# get the number of features\n",
    "n_f = full_scaled.shape[1]"
   ]
  },
  {
   "cell_type": "code",
   "execution_count": 12,
   "metadata": {},
   "outputs": [
    {
     "data": {
      "text/html": [
       "<div>\n",
       "<style scoped>\n",
       "    .dataframe tbody tr th:only-of-type {\n",
       "        vertical-align: middle;\n",
       "    }\n",
       "\n",
       "    .dataframe tbody tr th {\n",
       "        vertical-align: top;\n",
       "    }\n",
       "\n",
       "    .dataframe thead th {\n",
       "        text-align: right;\n",
       "    }\n",
       "</style>\n",
       "<table border=\"1\" class=\"dataframe\">\n",
       "  <thead>\n",
       "    <tr style=\"text-align: right;\">\n",
       "      <th></th>\n",
       "      <th>size</th>\n",
       "      <th>weight</th>\n",
       "      <th>smoothness</th>\n",
       "      <th>red</th>\n",
       "      <th>green</th>\n",
       "      <th>blue</th>\n",
       "    </tr>\n",
       "  </thead>\n",
       "  <tbody>\n",
       "    <tr>\n",
       "      <th>767</th>\n",
       "      <td>3.6</td>\n",
       "      <td>148.3</td>\n",
       "      <td>7.9</td>\n",
       "      <td>238</td>\n",
       "      <td>116</td>\n",
       "      <td>7</td>\n",
       "    </tr>\n",
       "    <tr>\n",
       "      <th>72</th>\n",
       "      <td>2.9</td>\n",
       "      <td>178.1</td>\n",
       "      <td>7.2</td>\n",
       "      <td>246</td>\n",
       "      <td>53</td>\n",
       "      <td>4</td>\n",
       "    </tr>\n",
       "    <tr>\n",
       "      <th>908</th>\n",
       "      <td>11.3</td>\n",
       "      <td>136.2</td>\n",
       "      <td>7.8</td>\n",
       "      <td>240</td>\n",
       "      <td>172</td>\n",
       "      <td>1</td>\n",
       "    </tr>\n",
       "    <tr>\n",
       "      <th>235</th>\n",
       "      <td>6.1</td>\n",
       "      <td>94.2</td>\n",
       "      <td>9.3</td>\n",
       "      <td>228</td>\n",
       "      <td>47</td>\n",
       "      <td>11</td>\n",
       "    </tr>\n",
       "    <tr>\n",
       "      <th>37</th>\n",
       "      <td>7.2</td>\n",
       "      <td>81.1</td>\n",
       "      <td>9.5</td>\n",
       "      <td>219</td>\n",
       "      <td>29</td>\n",
       "      <td>1</td>\n",
       "    </tr>\n",
       "  </tbody>\n",
       "</table>\n",
       "</div>"
      ],
      "text/plain": [
       "     size  weight  smoothness  red  green  blue\n",
       "767   3.6   148.3         7.9  238    116     7\n",
       "72    2.9   178.1         7.2  246     53     4\n",
       "908  11.3   136.2         7.8  240    172     1\n",
       "235   6.1    94.2         9.3  228     47    11\n",
       "37    7.2    81.1         9.5  219     29     1"
      ]
     },
     "execution_count": 12,
     "metadata": {},
     "output_type": "execute_result"
    }
   ],
   "source": [
    "# show training data\n",
    "train.tail()"
   ]
  },
  {
   "cell_type": "code",
   "execution_count": 13,
   "metadata": {},
   "outputs": [
    {
     "name": "stdout",
     "output_type": "stream",
     "text": [
      "The training data has 819 samples and 6 features.\n"
     ]
    }
   ],
   "source": [
    "print(f\"The training data has {train_scaled.shape[0]} samples and {train_scaled.shape[1]} features.\")"
   ]
  },
  {
   "cell_type": "code",
   "execution_count": 14,
   "metadata": {},
   "outputs": [
    {
     "data": {
      "text/html": [
       "<div>\n",
       "<style scoped>\n",
       "    .dataframe tbody tr th:only-of-type {\n",
       "        vertical-align: middle;\n",
       "    }\n",
       "\n",
       "    .dataframe tbody tr th {\n",
       "        vertical-align: top;\n",
       "    }\n",
       "\n",
       "    .dataframe thead th {\n",
       "        text-align: right;\n",
       "    }\n",
       "</style>\n",
       "<table border=\"1\" class=\"dataframe\">\n",
       "  <thead>\n",
       "    <tr style=\"text-align: right;\">\n",
       "      <th></th>\n",
       "      <th>size</th>\n",
       "      <th>weight</th>\n",
       "      <th>smoothness</th>\n",
       "      <th>red</th>\n",
       "      <th>green</th>\n",
       "      <th>blue</th>\n",
       "    </tr>\n",
       "  </thead>\n",
       "  <tbody>\n",
       "    <tr>\n",
       "      <th>770</th>\n",
       "      <td>7.5</td>\n",
       "      <td>125.6</td>\n",
       "      <td>7.8</td>\n",
       "      <td>234</td>\n",
       "      <td>158</td>\n",
       "      <td>6</td>\n",
       "    </tr>\n",
       "    <tr>\n",
       "      <th>582</th>\n",
       "      <td>5.4</td>\n",
       "      <td>122.3</td>\n",
       "      <td>7.2</td>\n",
       "      <td>224</td>\n",
       "      <td>30</td>\n",
       "      <td>8</td>\n",
       "    </tr>\n",
       "    <tr>\n",
       "      <th>1009</th>\n",
       "      <td>7.6</td>\n",
       "      <td>87.9</td>\n",
       "      <td>10.0</td>\n",
       "      <td>168</td>\n",
       "      <td>28</td>\n",
       "      <td>0</td>\n",
       "    </tr>\n",
       "    <tr>\n",
       "      <th>267</th>\n",
       "      <td>3.4</td>\n",
       "      <td>121.9</td>\n",
       "      <td>6.6</td>\n",
       "      <td>227</td>\n",
       "      <td>148</td>\n",
       "      <td>4</td>\n",
       "    </tr>\n",
       "    <tr>\n",
       "      <th>974</th>\n",
       "      <td>5.4</td>\n",
       "      <td>92.9</td>\n",
       "      <td>9.8</td>\n",
       "      <td>220</td>\n",
       "      <td>13</td>\n",
       "      <td>6</td>\n",
       "    </tr>\n",
       "  </tbody>\n",
       "</table>\n",
       "</div>"
      ],
      "text/plain": [
       "      size  weight  smoothness  red  green  blue\n",
       "770    7.5   125.6         7.8  234    158     6\n",
       "582    5.4   122.3         7.2  224     30     8\n",
       "1009   7.6    87.9        10.0  168     28     0\n",
       "267    3.4   121.9         6.6  227    148     4\n",
       "974    5.4    92.9         9.8  220     13     6"
      ]
     },
     "execution_count": 14,
     "metadata": {},
     "output_type": "execute_result"
    }
   ],
   "source": [
    "# show the testing data\n",
    "test.tail()"
   ]
  },
  {
   "cell_type": "code",
   "execution_count": 15,
   "metadata": {},
   "outputs": [
    {
     "name": "stdout",
     "output_type": "stream",
     "text": [
      "The test data has 205 samples and 6 features.\n"
     ]
    }
   ],
   "source": [
    "print(f\"The test data has {test_scaled.shape[0]} samples and {test_scaled.shape[1]} features.\")"
   ]
  },
  {
   "cell_type": "code",
   "execution_count": 16,
   "metadata": {},
   "outputs": [
    {
     "data": {
      "application/vnd.jupyter.widget-view+json": {
       "model_id": "c4dc0a389fa24790a5dcc77882d7ba23",
       "version_major": 2,
       "version_minor": 0
      },
      "text/plain": [
       "Canvas(toolbar=Toolbar(toolitems=[('Home', 'Reset original view', 'home', 'home'), ('Back', 'Back to previous …"
      ]
     },
     "metadata": {},
     "output_type": "display_data"
    }
   ],
   "source": [
    "# histogram of scaled redness\n",
    "plt.figure()\n",
    "plt.hist(full_scaled[:, fruits.columns[:-1]==\"red\"], density=True, bins=32, color=(0.3, 0.7, 0.9))\n",
    "plt.xlabel(\"Red Channel (scaled)\")\n",
    "plt.ylabel(\"Frequency\")\n",
    "plt.tight_layout()"
   ]
  },
  {
   "cell_type": "code",
   "execution_count": 17,
   "metadata": {},
   "outputs": [
    {
     "data": {
      "application/vnd.jupyter.widget-view+json": {
       "model_id": "98797e4a196146d69c669fcc9f9e9e98",
       "version_major": 2,
       "version_minor": 0
      },
      "text/plain": [
       "Canvas(toolbar=Toolbar(toolitems=[('Home', 'Reset original view', 'home', 'home'), ('Back', 'Back to previous …"
      ]
     },
     "metadata": {},
     "output_type": "display_data"
    }
   ],
   "source": [
    "# histogram of scaled smoothness\n",
    "plt.figure()\n",
    "plt.hist(full_scaled[:, fruits.columns[:-1]==\"smoothness\"], density=True, bins=32, color=(0.3, 0.7, 0.9))\n",
    "plt.xlabel(\"Smoothness (scaled)\")\n",
    "plt.ylabel(\"Frequency\")\n",
    "plt.tight_layout()"
   ]
  },
  {
   "cell_type": "code",
   "execution_count": 18,
   "metadata": {},
   "outputs": [
    {
     "name": "stdout",
     "output_type": "stream",
     "text": [
      "The first two principle components explain 64.8% of the variance in the data\n"
     ]
    }
   ],
   "source": [
    "# initialize the PCA model\n",
    "pca = PCA(n_components=n_f)\n",
    "\n",
    "# fit the PCA model to the training data\n",
    "train_pca = pca.fit_transform(train_scaled)\n",
    "# transform the test data\n",
    "test_pca = pca.transform(test_scaled)\n",
    "\n",
    "# get the explained variance ratios\n",
    "exp_var_n2 = np.sum(pca.explained_variance_ratio_[:2])\n",
    "\n",
    "print(f\"The first two principle components explain {exp_var_n2 * 100:.1f}% of the variance in the data\")"
   ]
  },
  {
   "cell_type": "code",
   "execution_count": 19,
   "metadata": {},
   "outputs": [],
   "source": [
    "# only consider the frist two principal components\n",
    "train_pca = train_pca[:, :2]\n",
    "test_pca = test_pca[:, :2]"
   ]
  },
  {
   "cell_type": "code",
   "execution_count": 20,
   "metadata": {},
   "outputs": [
    {
     "data": {
      "text/html": [
       "<div>\n",
       "<style scoped>\n",
       "    .dataframe tbody tr th:only-of-type {\n",
       "        vertical-align: middle;\n",
       "    }\n",
       "\n",
       "    .dataframe tbody tr th {\n",
       "        vertical-align: top;\n",
       "    }\n",
       "\n",
       "    .dataframe thead th {\n",
       "        text-align: right;\n",
       "    }\n",
       "</style>\n",
       "<table border=\"1\" class=\"dataframe\">\n",
       "  <thead>\n",
       "    <tr style=\"text-align: right;\">\n",
       "      <th></th>\n",
       "      <th>PC1</th>\n",
       "      <th>PC2</th>\n",
       "    </tr>\n",
       "  </thead>\n",
       "  <tbody>\n",
       "    <tr>\n",
       "      <th>size</th>\n",
       "      <td>0.001397</td>\n",
       "      <td>-0.687627</td>\n",
       "    </tr>\n",
       "    <tr>\n",
       "      <th>weight</th>\n",
       "      <td>-0.525131</td>\n",
       "      <td>-0.002579</td>\n",
       "    </tr>\n",
       "    <tr>\n",
       "      <th>smoothness</th>\n",
       "      <td>0.538777</td>\n",
       "      <td>0.000083</td>\n",
       "    </tr>\n",
       "    <tr>\n",
       "      <th>red</th>\n",
       "      <td>-0.413465</td>\n",
       "      <td>0.027993</td>\n",
       "    </tr>\n",
       "    <tr>\n",
       "      <th>green</th>\n",
       "      <td>-0.512668</td>\n",
       "      <td>-0.003060</td>\n",
       "    </tr>\n",
       "    <tr>\n",
       "      <th>blue</th>\n",
       "      <td>0.013186</td>\n",
       "      <td>0.725513</td>\n",
       "    </tr>\n",
       "  </tbody>\n",
       "</table>\n",
       "</div>"
      ],
      "text/plain": [
       "                 PC1       PC2\n",
       "size        0.001397 -0.687627\n",
       "weight     -0.525131 -0.002579\n",
       "smoothness  0.538777  0.000083\n",
       "red        -0.413465  0.027993\n",
       "green      -0.512668 -0.003060\n",
       "blue        0.013186  0.725513"
      ]
     },
     "execution_count": 20,
     "metadata": {},
     "output_type": "execute_result"
    }
   ],
   "source": [
    "# show the weight of the features in the components\n",
    "loadings = pd.DataFrame(pca.components_[:2].T, columns=['PC1', 'PC2'], index=train.columns)\n",
    "# save the loading\n",
    "filepath = join(\"data\", \"pca_loadings.csv\")\n",
    "loadings.to_csv(filepath, index=True)\n",
    "\n",
    "# show the loadings\n",
    "loadings"
   ]
  },
  {
   "cell_type": "code",
   "execution_count": 21,
   "metadata": {},
   "outputs": [
    {
     "data": {
      "application/vnd.jupyter.widget-view+json": {
       "model_id": "305d52f5f6834cfba3ce4bc948c7fa22",
       "version_major": 2,
       "version_minor": 0
      },
      "text/plain": [
       "Canvas(toolbar=Toolbar(toolitems=[('Home', 'Reset original view', 'home', 'home'), ('Back', 'Back to previous …"
      ]
     },
     "metadata": {},
     "output_type": "display_data"
    }
   ],
   "source": [
    "# scatter plot of the first two features\n",
    "plt.figure()\n",
    "plt.scatter(fruits[\"size\"], fruits[\"weight\"],\n",
    "           edgecolor=(0.2, 0.2, 0.2),\n",
    "            facecolor=(0.8, 0.8, 0.8), \n",
    "            s=20\n",
    "           )\n",
    "plt.xlabel(\"Size (cm)\")\n",
    "plt.ylabel(\"Weight (g)\")\n",
    "plt.tight_layout()"
   ]
  },
  {
   "cell_type": "code",
   "execution_count": 22,
   "metadata": {},
   "outputs": [
    {
     "data": {
      "application/vnd.jupyter.widget-view+json": {
       "model_id": "e1a03604f7324234afe7ba051af54cd7",
       "version_major": 2,
       "version_minor": 0
      },
      "text/plain": [
       "Canvas(toolbar=Toolbar(toolitems=[('Home', 'Reset original view', 'home', 'home'), ('Back', 'Back to previous …"
      ]
     },
     "metadata": {},
     "output_type": "display_data"
    },
    {
     "data": {
      "text/plain": [
       "[<matplotlib.axis.XTick at 0x11be4500518>,\n",
       " <matplotlib.axis.XTick at 0x11be44e9b70>,\n",
       " <matplotlib.axis.XTick at 0x11be451d8d0>,\n",
       " <matplotlib.axis.XTick at 0x11be451dda0>]"
      ]
     },
     "execution_count": 22,
     "metadata": {},
     "output_type": "execute_result"
    }
   ],
   "source": [
    "# scatter plot of the first three features\n",
    "fig = plt.figure()\n",
    "ax = fig.gca(projection=\"3d\")\n",
    "ax.scatter(fruits[\"size\"], fruits[\"weight\"], fruits[\"smoothness\"],\n",
    "            edgecolor=(0.2, 0.2, 0.2),\n",
    "            facecolor=(0.8, 0.8, 0.8), \n",
    "            s=20)\n",
    "ax.view_init(45, 45)\n",
    "ax.set_xlabel(\"Size (cm)\", labelpad=10)\n",
    "ax.set_ylabel(\"Weight (g)\", labelpad=10)\n",
    "ax.set_zlabel(\"Smoothness (a.u.)\", labelpad=10)\n",
    "ax.set_yticks([60, 100, 140, 180])"
   ]
  },
  {
   "cell_type": "code",
   "execution_count": 23,
   "metadata": {},
   "outputs": [
    {
     "name": "stdout",
     "output_type": "stream",
     "text": [
      "The engineered training data has 819 samples and 2 features.\n"
     ]
    }
   ],
   "source": [
    "print(f\"The engineered training data has {train_pca.shape[0]} samples and {train_pca.shape[1]} features.\")"
   ]
  },
  {
   "cell_type": "code",
   "execution_count": 24,
   "metadata": {},
   "outputs": [
    {
     "data": {
      "application/vnd.jupyter.widget-view+json": {
       "model_id": "a63b19bbd0de4833a01115997409cba9",
       "version_major": 2,
       "version_minor": 0
      },
      "text/plain": [
       "Canvas(toolbar=Toolbar(toolitems=[('Home', 'Reset original view', 'home', 'home'), ('Back', 'Back to previous …"
      ]
     },
     "metadata": {},
     "output_type": "display_data"
    }
   ],
   "source": [
    "# merge the transformed training and test data for plotting\n",
    "full_pca = np.concatenate((train_pca, test_pca), axis=0)\n",
    "\n",
    "# plot the dataset along the principal axis\n",
    "plt.figure()\n",
    "plt.scatter(full_pca[:, 0], full_pca[:, 1], \n",
    "            edgecolor=(0.2, 0.2, 0.2),\n",
    "            facecolor=(0.8, 0.8, 0.8), \n",
    "            s=20)\n",
    "plt.xlabel(\"$X_{PC_1}$\")\n",
    "plt.ylabel(\"$X_{PC_2}$\")\n",
    "plt.tight_layout()"
   ]
  },
  {
   "cell_type": "markdown",
   "metadata": {},
   "source": [
    "# 3) Machine Learning (Unsupervised)"
   ]
  },
  {
   "cell_type": "code",
   "execution_count": 32,
   "metadata": {},
   "outputs": [
    {
     "data": {
      "application/vnd.jupyter.widget-view+json": {
       "model_id": "4148d6922f474478ae4d8940099e855f",
       "version_major": 2,
       "version_minor": 0
      },
      "text/plain": [
       "Canvas(toolbar=Toolbar(toolitems=[('Home', 'Reset original view', 'home', 'home'), ('Back', 'Back to previous …"
      ]
     },
     "metadata": {},
     "output_type": "display_data"
    }
   ],
   "source": [
    "# show the training samples\n",
    "plt.figure()\n",
    "plt.scatter(train_pca[:, 0], train_pca[:, 1], \n",
    "            edgecolor=(0.2, 0.2, 0.2),\n",
    "            facecolor=(0.8, 0.8, 0.8), \n",
    "            s=20)\n",
    "plt.xlabel(\"$X_{PC_1}$\")\n",
    "plt.ylabel(\"$X_{PC_2}$\")\n",
    "plt.tight_layout()"
   ]
  },
  {
   "cell_type": "code",
   "execution_count": 33,
   "metadata": {},
   "outputs": [
    {
     "data": {
      "application/vnd.jupyter.widget-view+json": {
       "model_id": "22d61ccb1f16420f9a1a5773dbe20408",
       "version_major": 2,
       "version_minor": 0
      },
      "text/plain": [
       "Canvas(toolbar=Toolbar(toolitems=[('Home', 'Reset original view', 'home', 'home'), ('Back', 'Back to previous …"
      ]
     },
     "metadata": {},
     "output_type": "display_data"
    }
   ],
   "source": [
    "# define maximum number of clusters\n",
    "n_cluster_max = 8\n",
    "n_cluster = np.arange(1, n_cluster_max + 1)\n",
    "scores = np.empty(n_cluster_max)\n",
    "\n",
    "for ii in range(n_cluster_max):\n",
    "    # create model\n",
    "    k_means = KMeans(n_cluster[ii])\n",
    "    # fit the model to the data\n",
    "    k_means.fit(train_pca)\n",
    "    # score the model\n",
    "    scores[ii] = k_means.score(train_pca)\n",
    "\n",
    "# plot scores to apply elbow method\n",
    "plt.figure()\n",
    "plt.scatter(n_cluster, scores, \n",
    "            s=60,\n",
    "            edgecolor=(1, 0.4, 0.2),\n",
    "            facecolor=(0.3, 0.7, 0.9), \n",
    "            zorder=10)\n",
    "plt.plot(n_cluster, scores, \n",
    "         color=(0.75, 0.9, 1), \n",
    "         linestyle=\"--\",\n",
    "         zorder=5)\n",
    "plt.xlabel(\"$n_\\\\mathrm{cluster}$\")\n",
    "plt.ylabel(\"Scores\")\n",
    "plt.tight_layout()"
   ]
  },
  {
   "cell_type": "code",
   "execution_count": 34,
   "metadata": {},
   "outputs": [],
   "source": [
    "# fit the model to the training data\n",
    "k_means = KMeans(2)\n",
    "k_means.fit(train_pca)\n",
    "\n",
    "# get the k-means\n",
    "cluster_centers = k_means.cluster_centers_"
   ]
  },
  {
   "cell_type": "code",
   "execution_count": 45,
   "metadata": {},
   "outputs": [
    {
     "name": "stderr",
     "output_type": "stream",
     "text": [
      "C:\\Users\\edizh\\Anaconda3\\lib\\site-packages\\ipykernel_launcher.py:15: RuntimeWarning: More than 20 figures have been opened. Figures created through the pyplot interface (`matplotlib.pyplot.figure`) are retained until explicitly closed and may consume too much memory. (To control this warning, see the rcParam `figure.max_open_warning`).\n",
      "  from ipykernel import kernelapp as app\n"
     ]
    },
    {
     "data": {
      "application/vnd.jupyter.widget-view+json": {
       "model_id": "2d1683e20a7e4adaad4e26b2a912c631",
       "version_major": 2,
       "version_minor": 0
      },
      "text/plain": [
       "Canvas(toolbar=Toolbar(toolitems=[('Home', 'Reset original view', 'home', 'home'), ('Back', 'Back to previous …"
      ]
     },
     "metadata": {},
     "output_type": "display_data"
    }
   ],
   "source": [
    "# predict the training labels\n",
    "train_label_predict = k_means.predict(train_pca)\n",
    "\n",
    "# plot the transformed train data\n",
    "train_pca_0 = train_pca[train_label_predict==0, :]\n",
    "train_pca_1 = train_pca[train_label_predict==1, :]\n",
    "\n",
    "# color to mark wrong labels\n",
    "color_1 = (0.3, 0.7, 0.9)\n",
    "color_0 = (1, 0.4, 0.2)\n",
    "facecolor_0 = np.copy(color_0)\n",
    "facecolor_1 = np.copy(color_1)\n",
    "\n",
    "# plot the clustered training samples \n",
    "plt.figure()\n",
    "plt.scatter(train_pca_0[:, 0], train_pca_0[:, 1], facecolor=facecolor_0, s=20)\n",
    "plt.scatter(train_pca_1[:, 0], train_pca_1[:, 1], facecolor=facecolor_1, s=20)\n",
    "plt.scatter(cluster_centers[0, 0], cluster_centers[0, 1], facecolor=(0, 0, 0), marker=\"x\", s=100)\n",
    "plt.scatter(cluster_centers[1, 0], cluster_centers[1, 1], facecolor=(0, 0, 0), marker=\"x\", s=100)\n",
    "plt.xlabel(\"$X_{PC_1}$\")\n",
    "plt.ylabel(\"$X_{PC_2}$\")\n",
    "plt.tight_layout()"
   ]
  },
  {
   "cell_type": "code",
   "execution_count": 38,
   "metadata": {},
   "outputs": [
    {
     "name": "stderr",
     "output_type": "stream",
     "text": [
      "C:\\Users\\edizh\\Anaconda3\\lib\\site-packages\\ipykernel_launcher.py:8: RuntimeWarning: More than 20 figures have been opened. Figures created through the pyplot interface (`matplotlib.pyplot.figure`) are retained until explicitly closed and may consume too much memory. (To control this warning, see the rcParam `figure.max_open_warning`).\n",
      "  \n"
     ]
    },
    {
     "data": {
      "application/vnd.jupyter.widget-view+json": {
       "model_id": "b29974c6b5d74b14ba356fe2f6ba3947",
       "version_major": 2,
       "version_minor": 0
      },
      "text/plain": [
       "Canvas(toolbar=Toolbar(toolitems=[('Home', 'Reset original view', 'home', 'home'), ('Back', 'Back to previous …"
      ]
     },
     "metadata": {},
     "output_type": "display_data"
    }
   ],
   "source": [
    "# predict the labels of the test data\n",
    "test_label_predict = k_means.predict(test_pca)\n",
    "\n",
    "# plot the transformed train data\n",
    "test_pca_0 = test_pca[test_label_predict==0, :]\n",
    "test_pca_1 = test_pca[test_label_predict==1, :]\n",
    "\n",
    "plt.figure()\n",
    "plt.scatter(test_pca[:, 0], test_pca[:, 1], \n",
    "            edgecolor=(0.2, 0.2, 0.2),\n",
    "            facecolor=(0.8, 0.8, 0.8), \n",
    "            s=20)\n",
    "plt.xlabel(\"$X_{PC_1}$\")\n",
    "plt.ylabel(\"$X_{PC_2}$\")\n",
    "plt.tight_layout()"
   ]
  },
  {
   "cell_type": "code",
   "execution_count": 44,
   "metadata": {},
   "outputs": [
    {
     "name": "stderr",
     "output_type": "stream",
     "text": [
      "C:\\Users\\edizh\\Anaconda3\\lib\\site-packages\\ipykernel_launcher.py:8: RuntimeWarning: More than 20 figures have been opened. Figures created through the pyplot interface (`matplotlib.pyplot.figure`) are retained until explicitly closed and may consume too much memory. (To control this warning, see the rcParam `figure.max_open_warning`).\n",
      "  \n"
     ]
    },
    {
     "data": {
      "application/vnd.jupyter.widget-view+json": {
       "model_id": "d250cdad41ef4cf496f7613430b516e3",
       "version_major": 2,
       "version_minor": 0
      },
      "text/plain": [
       "Canvas(toolbar=Toolbar(toolitems=[('Home', 'Reset original view', 'home', 'home'), ('Back', 'Back to previous …"
      ]
     },
     "metadata": {},
     "output_type": "display_data"
    }
   ],
   "source": [
    "# color to mark wrong labels\n",
    "color_1 = (0.3, 0.7, 0.9)\n",
    "color_0 = (1, 0.4, 0.2)\n",
    "facecolor_0 = np.copy(color_0)\n",
    "facecolor_1 = np.copy(color_1)\n",
    "\n",
    "# plot the clustered test samples\n",
    "plt.figure()\n",
    "plt.scatter(test_pca_0[:, 0], test_pca_0[:, 1], facecolor=facecolor_0, s=20)\n",
    "plt.scatter(test_pca_1[:, 0], test_pca_1[:, 1], facecolor=facecolor_1, s=20)\n",
    "plt.scatter(cluster_centers[0, 0], cluster_centers[0, 1], facecolor=(0, 0, 0), marker=\"x\", s=100)\n",
    "plt.scatter(cluster_centers[1, 0], cluster_centers[1, 1], facecolor=(0, 0, 0), marker=\"x\", s=100)\n",
    "plt.xlabel(\"$X_{PC_1}$\")\n",
    "plt.ylabel(\"$X_{PC_2}$\")\n",
    "plt.tight_layout()"
   ]
  },
  {
   "cell_type": "code",
   "execution_count": null,
   "metadata": {},
   "outputs": [],
   "source": []
  }
 ],
 "metadata": {
  "kernelspec": {
   "display_name": "Python 3",
   "language": "python",
   "name": "python3"
  },
  "language_info": {
   "codemirror_mode": {
    "name": "ipython",
    "version": 3
   },
   "file_extension": ".py",
   "mimetype": "text/x-python",
   "name": "python",
   "nbconvert_exporter": "python",
   "pygments_lexer": "ipython3",
   "version": "3.6.8"
  }
 },
 "nbformat": 4,
 "nbformat_minor": 4
}
