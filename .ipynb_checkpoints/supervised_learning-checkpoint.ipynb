{
 "cells": [
  {
   "cell_type": "code",
   "execution_count": null,
   "metadata": {},
   "outputs": [],
   "source": [
    "# install dependencies if necessary\n",
    "!pip install scikit-learn\n",
    "!pip install pandas"
   ]
  },
  {
   "cell_type": "code",
   "execution_count": 1,
   "metadata": {},
   "outputs": [],
   "source": [
    "from os.path import join\n",
    "import numpy as np\n",
    "import pandas as pd\n",
    "import matplotlib.pyplot as plt\n",
    "import matplotlib\n",
    "from mpl_toolkits.mplot3d import Axes3D\n",
    "from sklearn.preprocessing import StandardScaler, LabelEncoder\n",
    "from sklearn.model_selection import train_test_split\n",
    "from sklearn.decomposition import PCA\n",
    "from sklearn.svm import SVC\n",
    "\n",
    "%matplotlib widget\n",
    "\n",
    "matplotlib.rc('font', size=16) \n",
    "matplotlib.rc('xtick', labelsize=14) \n",
    "matplotlib.rc('ytick', labelsize=14)"
   ]
  },
  {
   "cell_type": "markdown",
   "metadata": {},
   "source": [
    "# 1) Data exploration"
   ]
  },
  {
   "cell_type": "code",
   "execution_count": 2,
   "metadata": {},
   "outputs": [
    {
     "data": {
      "text/html": [
       "<div>\n",
       "<style scoped>\n",
       "    .dataframe tbody tr th:only-of-type {\n",
       "        vertical-align: middle;\n",
       "    }\n",
       "\n",
       "    .dataframe tbody tr th {\n",
       "        vertical-align: top;\n",
       "    }\n",
       "\n",
       "    .dataframe thead th {\n",
       "        text-align: right;\n",
       "    }\n",
       "</style>\n",
       "<table border=\"1\" class=\"dataframe\">\n",
       "  <thead>\n",
       "    <tr style=\"text-align: right;\">\n",
       "      <th></th>\n",
       "      <th>size</th>\n",
       "      <th>weight</th>\n",
       "      <th>smoothness</th>\n",
       "      <th>red</th>\n",
       "      <th>green</th>\n",
       "      <th>blue</th>\n",
       "      <th>label</th>\n",
       "    </tr>\n",
       "  </thead>\n",
       "  <tbody>\n",
       "    <tr>\n",
       "      <th>1019</th>\n",
       "      <td>8.9</td>\n",
       "      <td>89.4</td>\n",
       "      <td>9.6</td>\n",
       "      <td>195</td>\n",
       "      <td>29</td>\n",
       "      <td>1</td>\n",
       "      <td>apple</td>\n",
       "    </tr>\n",
       "    <tr>\n",
       "      <th>1020</th>\n",
       "      <td>8.7</td>\n",
       "      <td>122.4</td>\n",
       "      <td>9.8</td>\n",
       "      <td>240</td>\n",
       "      <td>83</td>\n",
       "      <td>3</td>\n",
       "      <td>orange</td>\n",
       "    </tr>\n",
       "    <tr>\n",
       "      <th>1021</th>\n",
       "      <td>7.9</td>\n",
       "      <td>72.3</td>\n",
       "      <td>9.9</td>\n",
       "      <td>196</td>\n",
       "      <td>26</td>\n",
       "      <td>4</td>\n",
       "      <td>apple</td>\n",
       "    </tr>\n",
       "    <tr>\n",
       "      <th>1022</th>\n",
       "      <td>7.8</td>\n",
       "      <td>95.2</td>\n",
       "      <td>7.3</td>\n",
       "      <td>231</td>\n",
       "      <td>84</td>\n",
       "      <td>1</td>\n",
       "      <td>orange</td>\n",
       "    </tr>\n",
       "    <tr>\n",
       "      <th>1023</th>\n",
       "      <td>8.1</td>\n",
       "      <td>115.2</td>\n",
       "      <td>7.2</td>\n",
       "      <td>241</td>\n",
       "      <td>117</td>\n",
       "      <td>6</td>\n",
       "      <td>orange</td>\n",
       "    </tr>\n",
       "  </tbody>\n",
       "</table>\n",
       "</div>"
      ],
      "text/plain": [
       "      size  weight  smoothness  red  green  blue   label\n",
       "1019   8.9    89.4         9.6  195     29     1   apple\n",
       "1020   8.7   122.4         9.8  240     83     3  orange\n",
       "1021   7.9    72.3         9.9  196     26     4   apple\n",
       "1022   7.8    95.2         7.3  231     84     1  orange\n",
       "1023   8.1   115.2         7.2  241    117     6  orange"
      ]
     },
     "execution_count": 2,
     "metadata": {},
     "output_type": "execute_result"
    }
   ],
   "source": [
    "filepath = join(\"data\", \"fruits.csv\")\n",
    "\n",
    "# load the dataframe\n",
    "fruits = pd.read_csv(filepath)\n",
    "\n",
    "# show the dataframe\n",
    "fruits.tail()"
   ]
  },
  {
   "cell_type": "code",
   "execution_count": 3,
   "metadata": {},
   "outputs": [
    {
     "data": {
      "text/html": [
       "<div>\n",
       "<style scoped>\n",
       "    .dataframe tbody tr th:only-of-type {\n",
       "        vertical-align: middle;\n",
       "    }\n",
       "\n",
       "    .dataframe tbody tr th {\n",
       "        vertical-align: top;\n",
       "    }\n",
       "\n",
       "    .dataframe thead th {\n",
       "        text-align: right;\n",
       "    }\n",
       "</style>\n",
       "<table border=\"1\" class=\"dataframe\">\n",
       "  <thead>\n",
       "    <tr style=\"text-align: right;\">\n",
       "      <th></th>\n",
       "      <th>size</th>\n",
       "      <th>weight</th>\n",
       "      <th>smoothness</th>\n",
       "      <th>red</th>\n",
       "      <th>green</th>\n",
       "      <th>blue</th>\n",
       "    </tr>\n",
       "  </thead>\n",
       "  <tbody>\n",
       "    <tr>\n",
       "      <th>count</th>\n",
       "      <td>1024.000000</td>\n",
       "      <td>1024.000000</td>\n",
       "      <td>1024.000000</td>\n",
       "      <td>1024.000000</td>\n",
       "      <td>1024.000000</td>\n",
       "      <td>1024.000000</td>\n",
       "    </tr>\n",
       "    <tr>\n",
       "      <th>mean</th>\n",
       "      <td>7.003809</td>\n",
       "      <td>112.976660</td>\n",
       "      <td>8.485449</td>\n",
       "      <td>220.512695</td>\n",
       "      <td>70.424805</td>\n",
       "      <td>3.916016</td>\n",
       "    </tr>\n",
       "    <tr>\n",
       "      <th>std</th>\n",
       "      <td>1.843791</td>\n",
       "      <td>31.902963</td>\n",
       "      <td>1.258012</td>\n",
       "      <td>24.494854</td>\n",
       "      <td>43.235496</td>\n",
       "      <td>3.136014</td>\n",
       "    </tr>\n",
       "    <tr>\n",
       "      <th>min</th>\n",
       "      <td>0.300000</td>\n",
       "      <td>47.200000</td>\n",
       "      <td>4.100000</td>\n",
       "      <td>136.000000</td>\n",
       "      <td>3.000000</td>\n",
       "      <td>0.000000</td>\n",
       "    </tr>\n",
       "    <tr>\n",
       "      <th>25%</th>\n",
       "      <td>5.700000</td>\n",
       "      <td>86.175000</td>\n",
       "      <td>7.500000</td>\n",
       "      <td>207.000000</td>\n",
       "      <td>30.000000</td>\n",
       "      <td>2.000000</td>\n",
       "    </tr>\n",
       "    <tr>\n",
       "      <th>50%</th>\n",
       "      <td>7.100000</td>\n",
       "      <td>102.900000</td>\n",
       "      <td>9.200000</td>\n",
       "      <td>231.000000</td>\n",
       "      <td>63.000000</td>\n",
       "      <td>3.000000</td>\n",
       "    </tr>\n",
       "    <tr>\n",
       "      <th>75%</th>\n",
       "      <td>8.200000</td>\n",
       "      <td>141.650000</td>\n",
       "      <td>9.500000</td>\n",
       "      <td>237.000000</td>\n",
       "      <td>109.000000</td>\n",
       "      <td>6.000000</td>\n",
       "    </tr>\n",
       "    <tr>\n",
       "      <th>max</th>\n",
       "      <td>13.100000</td>\n",
       "      <td>202.900000</td>\n",
       "      <td>10.000000</td>\n",
       "      <td>255.000000</td>\n",
       "      <td>181.000000</td>\n",
       "      <td>18.000000</td>\n",
       "    </tr>\n",
       "  </tbody>\n",
       "</table>\n",
       "</div>"
      ],
      "text/plain": [
       "              size       weight   smoothness          red        green  \\\n",
       "count  1024.000000  1024.000000  1024.000000  1024.000000  1024.000000   \n",
       "mean      7.003809   112.976660     8.485449   220.512695    70.424805   \n",
       "std       1.843791    31.902963     1.258012    24.494854    43.235496   \n",
       "min       0.300000    47.200000     4.100000   136.000000     3.000000   \n",
       "25%       5.700000    86.175000     7.500000   207.000000    30.000000   \n",
       "50%       7.100000   102.900000     9.200000   231.000000    63.000000   \n",
       "75%       8.200000   141.650000     9.500000   237.000000   109.000000   \n",
       "max      13.100000   202.900000    10.000000   255.000000   181.000000   \n",
       "\n",
       "              blue  \n",
       "count  1024.000000  \n",
       "mean      3.916016  \n",
       "std       3.136014  \n",
       "min       0.000000  \n",
       "25%       2.000000  \n",
       "50%       3.000000  \n",
       "75%       6.000000  \n",
       "max      18.000000  "
      ]
     },
     "execution_count": 3,
     "metadata": {},
     "output_type": "execute_result"
    }
   ],
   "source": [
    "# summarize some statistical quantities\n",
    "fruits.describe()"
   ]
  },
  {
   "cell_type": "code",
   "execution_count": 4,
   "metadata": {},
   "outputs": [
    {
     "data": {
      "application/vnd.jupyter.widget-view+json": {
       "model_id": "a89c41afab4f40b08ef444adf8f87cba",
       "version_major": 2,
       "version_minor": 0
      },
      "text/plain": [
       "Canvas(toolbar=Toolbar(toolitems=[('Home', 'Reset original view', 'home', 'home'), ('Back', 'Back to previous …"
      ]
     },
     "metadata": {},
     "output_type": "display_data"
    }
   ],
   "source": [
    "# size histogram\n",
    "plt.figure()\n",
    "plt.hist(fruits[\"size\"], density=True, bins=32, color=(0.3, 0.7, 0.9))\n",
    "plt.xlabel(\"Size (cm)\")\n",
    "plt.ylabel(\"Frequency\")\n",
    "plt.tight_layout()"
   ]
  },
  {
   "cell_type": "code",
   "execution_count": 5,
   "metadata": {},
   "outputs": [
    {
     "data": {
      "application/vnd.jupyter.widget-view+json": {
       "model_id": "a2e1a1dae79042a3ba4d2a3325a4d176",
       "version_major": 2,
       "version_minor": 0
      },
      "text/plain": [
       "Canvas(toolbar=Toolbar(toolitems=[('Home', 'Reset original view', 'home', 'home'), ('Back', 'Back to previous …"
      ]
     },
     "metadata": {},
     "output_type": "display_data"
    }
   ],
   "source": [
    "# weight histogram\n",
    "plt.figure()\n",
    "plt.hist(fruits[\"weight\"], density=True, bins=32, color=(0.3, 0.7, 0.9))\n",
    "plt.xlabel(\"Weight (g)\")\n",
    "plt.ylabel(\"Frequency\")\n",
    "plt.tight_layout()"
   ]
  },
  {
   "cell_type": "code",
   "execution_count": 6,
   "metadata": {},
   "outputs": [
    {
     "data": {
      "application/vnd.jupyter.widget-view+json": {
       "model_id": "1e9cf4e603094d22af5f00427244fac8",
       "version_major": 2,
       "version_minor": 0
      },
      "text/plain": [
       "Canvas(toolbar=Toolbar(toolitems=[('Home', 'Reset original view', 'home', 'home'), ('Back', 'Back to previous …"
      ]
     },
     "metadata": {},
     "output_type": "display_data"
    }
   ],
   "source": [
    "# smoothness histogram\n",
    "plt.figure()\n",
    "plt.hist(fruits[\"smoothness\"], density=True, bins=32, color=(0.3, 0.7, 0.9))\n",
    "plt.xlabel(\"Smoothness (a.u.)\")\n",
    "plt.ylabel(\"Frequency\")\n",
    "plt.tight_layout()"
   ]
  },
  {
   "cell_type": "code",
   "execution_count": 7,
   "metadata": {},
   "outputs": [
    {
     "data": {
      "application/vnd.jupyter.widget-view+json": {
       "model_id": "f4d9a62362e84fdda0f3fded3f52db8a",
       "version_major": 2,
       "version_minor": 0
      },
      "text/plain": [
       "Canvas(toolbar=Toolbar(toolitems=[('Home', 'Reset original view', 'home', 'home'), ('Back', 'Back to previous …"
      ]
     },
     "metadata": {},
     "output_type": "display_data"
    }
   ],
   "source": [
    "# redness histogram\n",
    "plt.figure()\n",
    "plt.hist(fruits[\"red\"], density=True, bins=32, color=(0.3, 0.7, 0.9))\n",
    "plt.xlabel(\"Red Channel\")\n",
    "plt.ylabel(\"Frequency\")\n",
    "plt.tight_layout()"
   ]
  },
  {
   "cell_type": "code",
   "execution_count": 8,
   "metadata": {},
   "outputs": [
    {
     "data": {
      "application/vnd.jupyter.widget-view+json": {
       "model_id": "cf0ad15c281440849b4b2e1cc06b96f9",
       "version_major": 2,
       "version_minor": 0
      },
      "text/plain": [
       "Canvas(toolbar=Toolbar(toolitems=[('Home', 'Reset original view', 'home', 'home'), ('Back', 'Back to previous …"
      ]
     },
     "metadata": {},
     "output_type": "display_data"
    }
   ],
   "source": [
    "# greenness histogram\n",
    "plt.figure()\n",
    "plt.hist(fruits[\"green\"], density=True, bins=32, color=(0.3, 0.7, 0.9))\n",
    "plt.xlabel(\"Green Channel\")\n",
    "plt.ylabel(\"Frequency\")\n",
    "plt.tight_layout()"
   ]
  },
  {
   "cell_type": "code",
   "execution_count": 9,
   "metadata": {},
   "outputs": [
    {
     "data": {
      "application/vnd.jupyter.widget-view+json": {
       "model_id": "9d983b5f37be4eda915355b141ad175c",
       "version_major": 2,
       "version_minor": 0
      },
      "text/plain": [
       "Canvas(toolbar=Toolbar(toolitems=[('Home', 'Reset original view', 'home', 'home'), ('Back', 'Back to previous …"
      ]
     },
     "metadata": {},
     "output_type": "display_data"
    }
   ],
   "source": [
    "# blueness histogram\n",
    "plt.figure()\n",
    "plt.hist(fruits[\"blue\"], density=True, bins=16, color=(0.3, 0.7, 0.9))\n",
    "plt.xlabel(\"Blue Channel\")\n",
    "plt.ylabel(\"Frequency\")\n",
    "plt.tight_layout()"
   ]
  },
  {
   "cell_type": "markdown",
   "metadata": {},
   "source": [
    "# 2) Preprocessing"
   ]
  },
  {
   "cell_type": "code",
   "execution_count": 10,
   "metadata": {},
   "outputs": [],
   "source": [
    "# split the data in training and testing\n",
    "train, test = train_test_split(fruits, test_size=0.2, random_state=1)\n",
    "\n",
    "# separate labels and features\n",
    "train_label = train.pop(\"label\")\n",
    "test_label = test.pop(\"label\")\n",
    "# convert the labels to 0s and 1s\n",
    "label_encoder = LabelEncoder()\n",
    "label_encoder.fit([\"orange\", \"apple\"])\n",
    "train_label = label_encoder.transform(train_label)\n",
    "test_label = label_encoder.transform(test_label)"
   ]
  },
  {
   "cell_type": "code",
   "execution_count": 11,
   "metadata": {},
   "outputs": [
    {
     "name": "stderr",
     "output_type": "stream",
     "text": [
      "C:\\Users\\edizh\\Anaconda3\\lib\\site-packages\\sklearn\\preprocessing\\data.py:617: DataConversionWarning: Data with input dtype int64, float64 were all converted to float64 by StandardScaler.\n",
      "  return self.partial_fit(X, y)\n",
      "C:\\Users\\edizh\\Anaconda3\\lib\\site-packages\\sklearn\\base.py:462: DataConversionWarning: Data with input dtype int64, float64 were all converted to float64 by StandardScaler.\n",
      "  return self.fit(X, **fit_params).transform(X)\n",
      "C:\\Users\\edizh\\Anaconda3\\lib\\site-packages\\ipykernel_launcher.py:4: DataConversionWarning: Data with input dtype int64, float64 were all converted to float64 by StandardScaler.\n",
      "  after removing the cwd from sys.path.\n"
     ]
    }
   ],
   "source": [
    "# scale the training and test data\n",
    "standard_scaler = StandardScaler()\n",
    "train_scaled = standard_scaler.fit_transform(train) \n",
    "test_scaled = standard_scaler.transform(test)\n",
    "\n",
    "# append the train and test data for plotting\n",
    "full_scaled = np.concatenate((train_scaled, test_scaled), axis=0)\n",
    "\n",
    "# get the number of features\n",
    "n_f = full_scaled.shape[1]"
   ]
  },
  {
   "cell_type": "code",
   "execution_count": 12,
   "metadata": {},
   "outputs": [
    {
     "data": {
      "text/html": [
       "<div>\n",
       "<style scoped>\n",
       "    .dataframe tbody tr th:only-of-type {\n",
       "        vertical-align: middle;\n",
       "    }\n",
       "\n",
       "    .dataframe tbody tr th {\n",
       "        vertical-align: top;\n",
       "    }\n",
       "\n",
       "    .dataframe thead th {\n",
       "        text-align: right;\n",
       "    }\n",
       "</style>\n",
       "<table border=\"1\" class=\"dataframe\">\n",
       "  <thead>\n",
       "    <tr style=\"text-align: right;\">\n",
       "      <th></th>\n",
       "      <th>size</th>\n",
       "      <th>weight</th>\n",
       "      <th>smoothness</th>\n",
       "      <th>red</th>\n",
       "      <th>green</th>\n",
       "      <th>blue</th>\n",
       "    </tr>\n",
       "  </thead>\n",
       "  <tbody>\n",
       "    <tr>\n",
       "      <th>767</th>\n",
       "      <td>8.2</td>\n",
       "      <td>147.1</td>\n",
       "      <td>6.6</td>\n",
       "      <td>239</td>\n",
       "      <td>138</td>\n",
       "      <td>13</td>\n",
       "    </tr>\n",
       "    <tr>\n",
       "      <th>72</th>\n",
       "      <td>6.9</td>\n",
       "      <td>144.0</td>\n",
       "      <td>7.7</td>\n",
       "      <td>240</td>\n",
       "      <td>93</td>\n",
       "      <td>5</td>\n",
       "    </tr>\n",
       "    <tr>\n",
       "      <th>908</th>\n",
       "      <td>9.0</td>\n",
       "      <td>190.9</td>\n",
       "      <td>7.5</td>\n",
       "      <td>235</td>\n",
       "      <td>138</td>\n",
       "      <td>1</td>\n",
       "    </tr>\n",
       "    <tr>\n",
       "      <th>235</th>\n",
       "      <td>8.1</td>\n",
       "      <td>71.7</td>\n",
       "      <td>9.3</td>\n",
       "      <td>239</td>\n",
       "      <td>34</td>\n",
       "      <td>4</td>\n",
       "    </tr>\n",
       "    <tr>\n",
       "      <th>37</th>\n",
       "      <td>8.4</td>\n",
       "      <td>59.7</td>\n",
       "      <td>9.5</td>\n",
       "      <td>222</td>\n",
       "      <td>19</td>\n",
       "      <td>1</td>\n",
       "    </tr>\n",
       "  </tbody>\n",
       "</table>\n",
       "</div>"
      ],
      "text/plain": [
       "     size  weight  smoothness  red  green  blue\n",
       "767   8.2   147.1         6.6  239    138    13\n",
       "72    6.9   144.0         7.7  240     93     5\n",
       "908   9.0   190.9         7.5  235    138     1\n",
       "235   8.1    71.7         9.3  239     34     4\n",
       "37    8.4    59.7         9.5  222     19     1"
      ]
     },
     "execution_count": 12,
     "metadata": {},
     "output_type": "execute_result"
    }
   ],
   "source": [
    "# show training data\n",
    "train.tail()"
   ]
  },
  {
   "cell_type": "code",
   "execution_count": 13,
   "metadata": {},
   "outputs": [
    {
     "name": "stdout",
     "output_type": "stream",
     "text": [
      "The training data has 819 samples and 6 features.\n"
     ]
    }
   ],
   "source": [
    "print(f\"The training data has {train_scaled.shape[0]} samples and {train_scaled.shape[1]} features.\")"
   ]
  },
  {
   "cell_type": "code",
   "execution_count": 14,
   "metadata": {},
   "outputs": [
    {
     "data": {
      "text/html": [
       "<div>\n",
       "<style scoped>\n",
       "    .dataframe tbody tr th:only-of-type {\n",
       "        vertical-align: middle;\n",
       "    }\n",
       "\n",
       "    .dataframe tbody tr th {\n",
       "        vertical-align: top;\n",
       "    }\n",
       "\n",
       "    .dataframe thead th {\n",
       "        text-align: right;\n",
       "    }\n",
       "</style>\n",
       "<table border=\"1\" class=\"dataframe\">\n",
       "  <thead>\n",
       "    <tr style=\"text-align: right;\">\n",
       "      <th></th>\n",
       "      <th>size</th>\n",
       "      <th>weight</th>\n",
       "      <th>smoothness</th>\n",
       "      <th>red</th>\n",
       "      <th>green</th>\n",
       "      <th>blue</th>\n",
       "    </tr>\n",
       "  </thead>\n",
       "  <tbody>\n",
       "    <tr>\n",
       "      <th>770</th>\n",
       "      <td>7.8</td>\n",
       "      <td>155.3</td>\n",
       "      <td>6.4</td>\n",
       "      <td>234</td>\n",
       "      <td>111</td>\n",
       "      <td>12</td>\n",
       "    </tr>\n",
       "    <tr>\n",
       "      <th>582</th>\n",
       "      <td>4.6</td>\n",
       "      <td>86.4</td>\n",
       "      <td>9.7</td>\n",
       "      <td>247</td>\n",
       "      <td>43</td>\n",
       "      <td>5</td>\n",
       "    </tr>\n",
       "    <tr>\n",
       "      <th>1009</th>\n",
       "      <td>7.1</td>\n",
       "      <td>133.9</td>\n",
       "      <td>7.7</td>\n",
       "      <td>238</td>\n",
       "      <td>74</td>\n",
       "      <td>6</td>\n",
       "    </tr>\n",
       "    <tr>\n",
       "      <th>267</th>\n",
       "      <td>7.2</td>\n",
       "      <td>133.4</td>\n",
       "      <td>6.8</td>\n",
       "      <td>232</td>\n",
       "      <td>115</td>\n",
       "      <td>2</td>\n",
       "    </tr>\n",
       "    <tr>\n",
       "      <th>974</th>\n",
       "      <td>8.5</td>\n",
       "      <td>93.7</td>\n",
       "      <td>9.4</td>\n",
       "      <td>179</td>\n",
       "      <td>40</td>\n",
       "      <td>3</td>\n",
       "    </tr>\n",
       "  </tbody>\n",
       "</table>\n",
       "</div>"
      ],
      "text/plain": [
       "      size  weight  smoothness  red  green  blue\n",
       "770    7.8   155.3         6.4  234    111    12\n",
       "582    4.6    86.4         9.7  247     43     5\n",
       "1009   7.1   133.9         7.7  238     74     6\n",
       "267    7.2   133.4         6.8  232    115     2\n",
       "974    8.5    93.7         9.4  179     40     3"
      ]
     },
     "execution_count": 14,
     "metadata": {},
     "output_type": "execute_result"
    }
   ],
   "source": [
    "# show the testing data\n",
    "test.tail()"
   ]
  },
  {
   "cell_type": "code",
   "execution_count": 15,
   "metadata": {},
   "outputs": [
    {
     "name": "stdout",
     "output_type": "stream",
     "text": [
      "The test data has 205 samples and 6 features.\n"
     ]
    }
   ],
   "source": [
    "print(f\"The test data has {test_scaled.shape[0]} samples and {test_scaled.shape[1]} features.\")"
   ]
  },
  {
   "cell_type": "code",
   "execution_count": 16,
   "metadata": {},
   "outputs": [
    {
     "data": {
      "application/vnd.jupyter.widget-view+json": {
       "model_id": "ab14ae88de5e4ed1a7c957dd3926221f",
       "version_major": 2,
       "version_minor": 0
      },
      "text/plain": [
       "Canvas(toolbar=Toolbar(toolitems=[('Home', 'Reset original view', 'home', 'home'), ('Back', 'Back to previous …"
      ]
     },
     "metadata": {},
     "output_type": "display_data"
    }
   ],
   "source": [
    "# histogram of scaled redness\n",
    "plt.figure()\n",
    "plt.hist(full_scaled[:, fruits.columns[:-1]==\"red\"], density=True, bins=32, color=(0.3, 0.7, 0.9))\n",
    "plt.xlabel(\"Red Channel (scaled)\")\n",
    "plt.ylabel(\"Frequency\")\n",
    "plt.tight_layout()"
   ]
  },
  {
   "cell_type": "code",
   "execution_count": 17,
   "metadata": {},
   "outputs": [
    {
     "data": {
      "application/vnd.jupyter.widget-view+json": {
       "model_id": "f6aa74800ed24ee7a94ab1ebefb44006",
       "version_major": 2,
       "version_minor": 0
      },
      "text/plain": [
       "Canvas(toolbar=Toolbar(toolitems=[('Home', 'Reset original view', 'home', 'home'), ('Back', 'Back to previous …"
      ]
     },
     "metadata": {},
     "output_type": "display_data"
    }
   ],
   "source": [
    "# histogram of scaled smoothness\n",
    "plt.figure()\n",
    "plt.hist(full_scaled[:, fruits.columns[:-1]==\"smoothness\"], density=True, bins=32, color=(0.3, 0.7, 0.9))\n",
    "plt.xlabel(\"Smoothness (scaled)\")\n",
    "plt.ylabel(\"Frequency\")\n",
    "plt.tight_layout()"
   ]
  },
  {
   "cell_type": "code",
   "execution_count": 18,
   "metadata": {},
   "outputs": [
    {
     "name": "stdout",
     "output_type": "stream",
     "text": [
      "The first two principle components explain 65.9% of the variance in the data\n"
     ]
    }
   ],
   "source": [
    "# initialize the PCA model\n",
    "pca = PCA(n_components=n_f)\n",
    "\n",
    "# fit the PCA model to the training data\n",
    "train_pca = pca.fit_transform(train_scaled)\n",
    "# transform the test data\n",
    "test_pca = pca.transform(test_scaled)\n",
    "\n",
    "# get the explained variance ratios\n",
    "exp_var_n2 = np.sum(pca.explained_variance_ratio_[:2])\n",
    "\n",
    "print(f\"The first two principle components explain {exp_var_n2 * 100:.1f}% of the variance in the data\")"
   ]
  },
  {
   "cell_type": "code",
   "execution_count": 19,
   "metadata": {},
   "outputs": [],
   "source": [
    "# only consider the frist two principal components\n",
    "train_pca = train_pca[:, :2]\n",
    "test_pca = test_pca[:, :2]"
   ]
  },
  {
   "cell_type": "code",
   "execution_count": 20,
   "metadata": {},
   "outputs": [
    {
     "data": {
      "text/html": [
       "<div>\n",
       "<style scoped>\n",
       "    .dataframe tbody tr th:only-of-type {\n",
       "        vertical-align: middle;\n",
       "    }\n",
       "\n",
       "    .dataframe tbody tr th {\n",
       "        vertical-align: top;\n",
       "    }\n",
       "\n",
       "    .dataframe thead th {\n",
       "        text-align: right;\n",
       "    }\n",
       "</style>\n",
       "<table border=\"1\" class=\"dataframe\">\n",
       "  <thead>\n",
       "    <tr style=\"text-align: right;\">\n",
       "      <th></th>\n",
       "      <th>PC1</th>\n",
       "      <th>PC2</th>\n",
       "    </tr>\n",
       "  </thead>\n",
       "  <tbody>\n",
       "    <tr>\n",
       "      <th>size</th>\n",
       "      <td>-0.008321</td>\n",
       "      <td>0.646080</td>\n",
       "    </tr>\n",
       "    <tr>\n",
       "      <th>weight</th>\n",
       "      <td>0.523098</td>\n",
       "      <td>0.033209</td>\n",
       "    </tr>\n",
       "    <tr>\n",
       "      <th>smoothness</th>\n",
       "      <td>-0.507178</td>\n",
       "      <td>-0.053907</td>\n",
       "    </tr>\n",
       "    <tr>\n",
       "      <th>red</th>\n",
       "      <td>0.426268</td>\n",
       "      <td>-0.139179</td>\n",
       "    </tr>\n",
       "    <tr>\n",
       "      <th>green</th>\n",
       "      <td>0.536041</td>\n",
       "      <td>0.044321</td>\n",
       "    </tr>\n",
       "    <tr>\n",
       "      <th>blue</th>\n",
       "      <td>-0.005046</td>\n",
       "      <td>0.746483</td>\n",
       "    </tr>\n",
       "  </tbody>\n",
       "</table>\n",
       "</div>"
      ],
      "text/plain": [
       "                 PC1       PC2\n",
       "size       -0.008321  0.646080\n",
       "weight      0.523098  0.033209\n",
       "smoothness -0.507178 -0.053907\n",
       "red         0.426268 -0.139179\n",
       "green       0.536041  0.044321\n",
       "blue       -0.005046  0.746483"
      ]
     },
     "execution_count": 20,
     "metadata": {},
     "output_type": "execute_result"
    }
   ],
   "source": [
    "# show the weight of the features in the components\n",
    "loadings = pd.DataFrame(pca.components_[:2].T, columns=['PC1', 'PC2'], index=train.columns)\n",
    "# save the loading\n",
    "filepath = join(\"data\", \"pca_loadings.csv\")\n",
    "loadings.to_csv(filepath, index=True)\n",
    "\n",
    "# show the loadings\n",
    "loadings"
   ]
  },
  {
   "cell_type": "code",
   "execution_count": 21,
   "metadata": {},
   "outputs": [
    {
     "data": {
      "application/vnd.jupyter.widget-view+json": {
       "model_id": "7d49303374c34b1b974403fa3289277a",
       "version_major": 2,
       "version_minor": 0
      },
      "text/plain": [
       "Canvas(toolbar=Toolbar(toolitems=[('Home', 'Reset original view', 'home', 'home'), ('Back', 'Back to previous …"
      ]
     },
     "metadata": {},
     "output_type": "display_data"
    }
   ],
   "source": [
    "# scatter plot of the first two features\n",
    "plt.figure()\n",
    "plt.scatter(fruits[\"size\"], fruits[\"weight\"],\n",
    "           edgecolor=(0.2, 0.2, 0.2),\n",
    "            facecolor=(0.8, 0.8, 0.8), \n",
    "            s=20\n",
    "           )\n",
    "plt.xlabel(\"Size (cm)\")\n",
    "plt.ylabel(\"Weight (g)\")\n",
    "plt.tight_layout()"
   ]
  },
  {
   "cell_type": "code",
   "execution_count": 22,
   "metadata": {},
   "outputs": [
    {
     "data": {
      "application/vnd.jupyter.widget-view+json": {
       "model_id": "ee81156afa4b48a89abcd2045a922432",
       "version_major": 2,
       "version_minor": 0
      },
      "text/plain": [
       "Canvas(toolbar=Toolbar(toolitems=[('Home', 'Reset original view', 'home', 'home'), ('Back', 'Back to previous …"
      ]
     },
     "metadata": {},
     "output_type": "display_data"
    },
    {
     "data": {
      "text/plain": [
       "[<matplotlib.axis.XTick at 0x1ab9d409a20>,\n",
       " <matplotlib.axis.XTick at 0x1ab9d109748>,\n",
       " <matplotlib.axis.XTick at 0x1ab9d426a58>,\n",
       " <matplotlib.axis.XTick at 0x1ab9d426f28>]"
      ]
     },
     "execution_count": 22,
     "metadata": {},
     "output_type": "execute_result"
    }
   ],
   "source": [
    "# scatter plot of the first three features\n",
    "fig = plt.figure()\n",
    "ax = fig.gca(projection=\"3d\")\n",
    "ax.scatter(fruits[\"size\"], fruits[\"weight\"], fruits[\"smoothness\"],\n",
    "            edgecolor=(0.2, 0.2, 0.2),\n",
    "            facecolor=(0.8, 0.8, 0.8), \n",
    "            s=20)\n",
    "ax.view_init(45, 45)\n",
    "ax.set_xlabel(\"Size (cm)\", labelpad=10)\n",
    "ax.set_ylabel(\"Weight (g)\", labelpad=10)\n",
    "ax.set_zlabel(\"Smoothness (a.u.)\", labelpad=10)\n",
    "ax.set_yticks([60, 100, 140, 180])"
   ]
  },
  {
   "cell_type": "code",
   "execution_count": 23,
   "metadata": {},
   "outputs": [
    {
     "name": "stdout",
     "output_type": "stream",
     "text": [
      "The engineered training data has 819 samples and 2 features.\n"
     ]
    }
   ],
   "source": [
    "print(f\"The engineered training data has {train_pca.shape[0]} samples and {train_pca.shape[1]} features.\")"
   ]
  },
  {
   "cell_type": "code",
   "execution_count": 24,
   "metadata": {},
   "outputs": [
    {
     "data": {
      "application/vnd.jupyter.widget-view+json": {
       "model_id": "a82cb9075773499c85f10451c7495c07",
       "version_major": 2,
       "version_minor": 0
      },
      "text/plain": [
       "Canvas(toolbar=Toolbar(toolitems=[('Home', 'Reset original view', 'home', 'home'), ('Back', 'Back to previous …"
      ]
     },
     "metadata": {},
     "output_type": "display_data"
    }
   ],
   "source": [
    "# merge the transformed training and test data for plotting\n",
    "full_pca = np.concatenate((train_pca, test_pca), axis=0)\n",
    "\n",
    "# plot the dataset along the principal axis\n",
    "plt.figure()\n",
    "plt.scatter(full_pca[:, 0], full_pca[:, 1], \n",
    "            edgecolor=(0.2, 0.2, 0.2),\n",
    "            facecolor=(0.8, 0.8, 0.8), \n",
    "            s=20)\n",
    "plt.xlabel(\"$X_{PC_1}$\")\n",
    "plt.ylabel(\"$X_{PC_2}$\")\n",
    "plt.tight_layout()"
   ]
  },
  {
   "cell_type": "markdown",
   "metadata": {},
   "source": [
    "# 3) Machine Learning (Supervised)"
   ]
  },
  {
   "cell_type": "code",
   "execution_count": 25,
   "metadata": {},
   "outputs": [],
   "source": [
    "# initialize support vector classifier\n",
    "svc = SVC(C=1, gamma=\"scale\", kernel=\"linear\")\n",
    "\n",
    "# fit the model to the training data\n",
    "svc.fit(train_pca, train_label);"
   ]
  },
  {
   "cell_type": "code",
   "execution_count": 26,
   "metadata": {},
   "outputs": [
    {
     "name": "stdout",
     "output_type": "stream",
     "text": [
      "The accuracy score of the SVC on the training data is 99.9%\n"
     ]
    }
   ],
   "source": [
    "# predict the training labels\n",
    "train_label_predict = svc.predict(train_pca)\n",
    "# compute the accuracy score\n",
    "accuracy_score = np.mean(train_label_predict==train_label)\n",
    "\n",
    "print(f\"The accuracy score of the SVC on the training data is {accuracy_score * 100:.1f}%\")"
   ]
  },
  {
   "cell_type": "code",
   "execution_count": 27,
   "metadata": {},
   "outputs": [
    {
     "name": "stdout",
     "output_type": "stream",
     "text": [
      "The accuracy of the SVC on the test data is 100.0%\n"
     ]
    }
   ],
   "source": [
    "# predict the test labels\n",
    "test_label_predict = svc.predict(test_pca)\n",
    "\n",
    "# compute the accuracy\n",
    "accuracy_score = np.mean(test_label_predict==test_label)\n",
    "\n",
    "print(f\"The accuracy of the SVC on the test data is {accuracy_score * 100:.1f}%\")"
   ]
  },
  {
   "cell_type": "code",
   "execution_count": 28,
   "metadata": {},
   "outputs": [],
   "source": [
    "# define fixed limits for the transformed feature space\n",
    "pc_1_lim = [np.min(full_pca[:, 0]) - 0.05 * np.ptp(full_pca[:, 0]), \n",
    "            np.max(full_pca[:, 0]) + 0.05 * np.ptp(full_pca[:, 0])]\n",
    "pc_2_lim = [np.min(full_pca[:, 1]) - 0.05 * np.ptp(full_pca[:, 1]), \n",
    "            np.max(full_pca[:, 1]) + 0.05 * np.ptp(full_pca[:, 1])]\n",
    "\n",
    "# define a grid to visualize the separation line\n",
    "n_x, n_y = (512, 512)\n",
    "x_s = np.linspace(pc_1_lim[0], pc_1_lim[1], n_x)\n",
    "y_s = np.linspace(pc_2_lim[0], pc_2_lim[1], n_y)\n",
    "X_s, Y_s = np.meshgrid(x_s, y_s)\n",
    "\n",
    "# compute the grid of predictions\n",
    "feature_grid = np.stack((X_s.reshape((-1,)), Y_s.reshape((-1,))), axis=1)\n",
    "prediction_grid = svc.decision_function(feature_grid)\n",
    "prediction_grid = prediction_grid.reshape(n_x, n_y)"
   ]
  },
  {
   "cell_type": "code",
   "execution_count": 29,
   "metadata": {},
   "outputs": [
    {
     "data": {
      "application/vnd.jupyter.widget-view+json": {
       "model_id": "cacab2c4047549c99eb6e4ec10ba2cab",
       "version_major": 2,
       "version_minor": 0
      },
      "text/plain": [
       "Canvas(toolbar=Toolbar(toolitems=[('Home', 'Reset original view', 'home', 'home'), ('Back', 'Back to previous …"
      ]
     },
     "metadata": {},
     "output_type": "display_data"
    }
   ],
   "source": [
    "# transform the labels from 0 and 1 to \"apple\" and \"orange\"\n",
    "train_label_predict_decode = label_encoder.inverse_transform(train_label_predict)\n",
    "# split the apples and the oranges\n",
    "train_pca_apple = train_pca[train_label_predict_decode==\"apple\"]\n",
    "train_pca_orange = train_pca[train_label_predict_decode==\"orange\"]\n",
    "\n",
    "# plot the training samples with the separation line\n",
    "plt.figure()\n",
    "plt.contour(X_s, Y_s, prediction_grid, \n",
    "            levels=[-1, 0, 1], \n",
    "            linestyles=[\"--\", \"-\", \"--\"],\n",
    "            colors=[(0.6, 0.6, 0.6), (0, 0, 0), (0.6, 0.6, 0.6)]\n",
    "           )\n",
    "plt.scatter(train_pca_apple[:, 0], train_pca_apple[:, 1], facecolor=(0.3, 0.7, 0.9), s=20)\n",
    "plt.scatter(train_pca_orange[:, 0], train_pca_orange[:, 1], facecolor=(1, 0.4, 0.2), s=20)\n",
    "plt.xlabel(\"$X_{PC_1}$\")\n",
    "plt.ylabel(\"$X_{PC_2}$\")\n",
    "plt.xlim(pc_1_lim)\n",
    "plt.ylim(pc_2_lim)\n",
    "plt.tight_layout()"
   ]
  },
  {
   "cell_type": "code",
   "execution_count": 30,
   "metadata": {},
   "outputs": [
    {
     "data": {
      "application/vnd.jupyter.widget-view+json": {
       "model_id": "8289a010be704e258e07ae86f4c7142e",
       "version_major": 2,
       "version_minor": 0
      },
      "text/plain": [
       "Canvas(toolbar=Toolbar(toolitems=[('Home', 'Reset original view', 'home', 'home'), ('Back', 'Back to previous …"
      ]
     },
     "metadata": {},
     "output_type": "display_data"
    }
   ],
   "source": [
    "# transform the labels from 0 and 1 to \"apple\" and \"orange\"\n",
    "test_label_predict_decode = label_encoder.inverse_transform(test_label_predict)\n",
    "# split the apples and the oranges\n",
    "test_pca_apple = test_pca[test_label_predict_decode==\"apple\"]\n",
    "test_pca_orange = test_pca[test_label_predict_decode==\"orange\"]\n",
    "\n",
    "# plot the test samples with the separation line\n",
    "plt.figure()\n",
    "plt.contour(X_s, Y_s, prediction_grid, \n",
    "            levels=[-1, 0, 1], \n",
    "            linestyles=[\"--\", \"-\", \"--\"],\n",
    "            colors=[(0.6, 0.6, 0.6), (0, 0, 0), (0.6, 0.6, 0.6)]\n",
    "           )\n",
    "plt.scatter(test_pca_apple[:, 0], test_pca_apple[:, 1], facecolor=(0.3, 0.7, 0.9), s=20)\n",
    "plt.scatter(test_pca_orange[:, 0], test_pca_orange[:, 1], facecolor=(1, 0.4, 0.2), s=20)\n",
    "plt.xlabel(\"$X_{PC_1}$\")\n",
    "plt.ylabel(\"$X_{PC_2}$\")\n",
    "plt.xlim(pc_1_lim)\n",
    "plt.ylim(pc_2_lim)\n",
    "plt.tight_layout()"
   ]
  },
  {
   "cell_type": "code",
   "execution_count": null,
   "metadata": {},
   "outputs": [],
   "source": []
  },
  {
   "cell_type": "code",
   "execution_count": null,
   "metadata": {},
   "outputs": [],
   "source": []
  }
 ],
 "metadata": {
  "kernelspec": {
   "display_name": "Python 3",
   "language": "python",
   "name": "python3"
  },
  "language_info": {
   "codemirror_mode": {
    "name": "ipython",
    "version": 3
   },
   "file_extension": ".py",
   "mimetype": "text/x-python",
   "name": "python",
   "nbconvert_exporter": "python",
   "pygments_lexer": "ipython3",
   "version": "3.6.8"
  }
 },
 "nbformat": 4,
 "nbformat_minor": 4
}
